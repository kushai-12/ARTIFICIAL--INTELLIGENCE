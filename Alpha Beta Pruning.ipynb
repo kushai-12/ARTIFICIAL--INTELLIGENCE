{
 "cells": [
  {
   "cell_type": "code",
   "execution_count": 3,
   "id": "aaf704d2-649f-475f-b987-1d822ba7723e",
   "metadata": {},
   "outputs": [
    {
     "name": "stdout",
     "output_type": "stream",
     "text": [
      "The optimal value is: 5\n"
     ]
    }
   ],
   "source": [
    "import math\n",
    "def alpha_beta_pruning(depth, node_index, is_max, values, alpha, beta):\n",
    "    if depth == 3:\n",
    "        return values[node_index]\n",
    "    if is_max:\n",
    "        best = -math.inf\n",
    "        for i in range(2):\n",
    "            val = alpha_beta_pruning(depth + 1, node_index * 2 + i, False, values, alpha, beta)\n",
    "            best = max(best, val)\n",
    "            alpha = max(alpha, best)\n",
    "            if beta <= alpha:\n",
    "                break\n",
    "        return best\n",
    "    else:\n",
    "        best = math.inf\n",
    "        for i in range(2):\n",
    "            val = alpha_beta_pruning(depth + 1, node_index * 2 + i, True, values, alpha, beta)\n",
    "            best = min(best, val)\n",
    "            beta = min(beta, best)\n",
    "            if beta <= alpha:\n",
    "                break\n",
    "        return best\n",
    "values = [3, 5, 6, 9, 1, 2, 0, -1]\n",
    "optimal_value = alpha_beta_pruning(0, 0, True, values, -math.inf, math.inf)\n",
    "print(\"The optimal value is:\", optimal_value)"
   ]
  },
  {
   "cell_type": "code",
   "execution_count": null,
   "id": "85150676-eac4-404a-b2db-b5bfc31384e9",
   "metadata": {},
   "outputs": [],
   "source": []
  }
 ],
 "metadata": {
  "kernelspec": {
   "display_name": "Python [conda env:base] *",
   "language": "python",
   "name": "conda-base-py"
  },
  "language_info": {
   "codemirror_mode": {
    "name": "ipython",
    "version": 3
   },
   "file_extension": ".py",
   "mimetype": "text/x-python",
   "name": "python",
   "nbconvert_exporter": "python",
   "pygments_lexer": "ipython3",
   "version": "3.12.7"
  }
 },
 "nbformat": 4,
 "nbformat_minor": 5
}
