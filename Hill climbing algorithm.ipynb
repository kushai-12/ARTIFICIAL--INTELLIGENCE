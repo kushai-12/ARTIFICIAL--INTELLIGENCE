{
 "cells": [
  {
   "cell_type": "code",
   "execution_count": 1,
   "id": "f299cb21-0817-46bd-aac1-69207a873c04",
   "metadata": {},
   "outputs": [
    {
     "name": "stdout",
     "output_type": "stream",
     "text": [
      "Maximum value of f(x) is approximately 3.999400499475662 at x = 1.9755153001991412\n"
     ]
    }
   ],
   "source": [
    "import random\n",
    "def f(x):\n",
    "    return -x**2 + 4*x\n",
    "def hill_climbing(func, start_x, step_size=0.1, max_iterations=1000, tolerance=1e-6):\n",
    "    current_x = start_x\n",
    "    current_value = func(current_x)\n",
    "    for _ in range(max_iterations):\n",
    "        neighbors = [current_x + step_size, current_x - step_size]\n",
    "        best_neighbor = None\n",
    "        best_value = current_value  \n",
    "        for neighbor in neighbors:\n",
    "            value = func(neighbor)\n",
    "            if value > best_value:\n",
    "                best_value = value\n",
    "                best_neighbor = neighbor\n",
    "        if best_neighbor is None or abs(current_x - best_neighbor) < tolerance:\n",
    "            break\n",
    "        current_x = best_neighbor\n",
    "        current_value = best_value\n",
    "    return current_x, current_value\n",
    "start_x = random.uniform(-10, 10)\n",
    "max_x, max_value = hill_climbing(f, start_x)\n",
    "print(f\"Maximum value of f(x) is approximately {max_value} at x = {max_x}\")"
   ]
  },
  {
   "cell_type": "code",
   "execution_count": null,
   "id": "ca8aebd4-1283-4c1f-8d7f-83a148833642",
   "metadata": {},
   "outputs": [],
   "source": []
  }
 ],
 "metadata": {
  "kernelspec": {
   "display_name": "Python [conda env:base] *",
   "language": "python",
   "name": "conda-base-py"
  },
  "language_info": {
   "codemirror_mode": {
    "name": "ipython",
    "version": 3
   },
   "file_extension": ".py",
   "mimetype": "text/x-python",
   "name": "python",
   "nbconvert_exporter": "python",
   "pygments_lexer": "ipython3",
   "version": "3.12.7"
  }
 },
 "nbformat": 4,
 "nbformat_minor": 5
}
