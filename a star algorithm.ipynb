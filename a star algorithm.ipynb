{
 "cells": [
  {
   "cell_type": "code",
   "execution_count": 1,
   "id": "1240a42b-9bfb-40d6-84c1-009dd6d65be6",
   "metadata": {},
   "outputs": [
    {
     "name": "stdout",
     "output_type": "stream",
     "text": [
      "Path from A to G : ['A', 'B', 'D', 'G']\n"
     ]
    }
   ],
   "source": [
    "import heapq\n",
    "def a_start_search(graph, start, goal, heuristic):\n",
    "    open_list = []\n",
    "    heapq.heappush(open_list, (0, start))\n",
    "    g_score = {node: float('inf') for node in graph}\n",
    "    g_score[start] = 0\n",
    "    f_score = {node: float('inf') for node in graph}\n",
    "    f_score[start] = heuristic[start]\n",
    "    came_from = {}\n",
    "    while open_list:\n",
    "        _, current = heapq.heappop(open_list)\n",
    "        if current == goal:\n",
    "            path = []\n",
    "            while current in came_from:\n",
    "                path.append(current)\n",
    "                current = came_from[current]\n",
    "            path.append(start)\n",
    "            return path[::-1]\n",
    "        for neighbor, cost in graph[current].items():\n",
    "            temp_g_score = g_score[current] + cost\n",
    "            if temp_g_score < g_score[neighbor]:\n",
    "                g_score[neighbor] = temp_g_score\n",
    "                f_score[neighbor] = temp_g_score + heuristic[neighbor]\n",
    "                heapq.heappush(open_list, (f_score[neighbor], neighbor))\n",
    "                came_from[neighbor] = current\n",
    "    return None \n",
    "graph = {  \n",
    "    'A': {'B': 1, 'C': 4},  \n",
    "    'B': {'A': 1, 'D': 2, 'E': 5},  \n",
    "    'C': {'A': 4, 'F': 1},  \n",
    "    'D': {'B': 2, 'G': 2},  \n",
    "    'E': {'B': 5},  \n",
    "    'F': {'C': 1, 'G': 3},\n",
    "    'G': {'D': 2, 'F': 3}\n",
    "} \n",
    "heuristic = {\n",
    "    'A': 6, 'B': 4, 'C': 4, 'D': 3, 'E': 2, 'F': 2, 'G': 0\n",
    "}\n",
    "start = 'A'\n",
    "goal = 'G'\n",
    "path = a_start_search(graph, start, goal, heuristic)\n",
    "print(\"Path from\", start, \"to\", goal, \":\", path)"
   ]
  },
  {
   "cell_type": "code",
   "execution_count": null,
   "id": "c8edba75-faec-4de1-a43e-a0183e882560",
   "metadata": {},
   "outputs": [],
   "source": []
  }
 ],
 "metadata": {
  "kernelspec": {
   "display_name": "Python [conda env:base] *",
   "language": "python",
   "name": "conda-base-py"
  },
  "language_info": {
   "codemirror_mode": {
    "name": "ipython",
    "version": 3
   },
   "file_extension": ".py",
   "mimetype": "text/x-python",
   "name": "python",
   "nbconvert_exporter": "python",
   "pygments_lexer": "ipython3",
   "version": "3.12.7"
  }
 },
 "nbformat": 4,
 "nbformat_minor": 5
}
