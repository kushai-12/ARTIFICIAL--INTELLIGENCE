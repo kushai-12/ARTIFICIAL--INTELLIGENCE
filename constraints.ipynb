{
 "cells": [
  {
   "cell_type": "code",
   "execution_count": 1,
   "id": "4b8ff823-5e64-4f4b-ac16-b02a2c7a8ac7",
   "metadata": {},
   "outputs": [
    {
     "name": "stdin",
     "output_type": "stream",
     "text": [
      "Enter the value of N:  4\n"
     ]
    },
    {
     "name": "stdout",
     "output_type": "stream",
     "text": [
      "0 1 0 0 \n",
      "0 0 0 1 \n",
      "1 0 0 0 \n",
      "0 0 1 0 \n",
      "\n",
      "0 0 1 0 \n",
      "1 0 0 0 \n",
      "0 0 0 1 \n",
      "0 1 0 0 \n",
      "\n"
     ]
    }
   ],
   "source": [
    "def print_sol():\n",
    "    for i in range(n):\n",
    "        for j in range(n):\n",
    "            print(a[i][j], end=\" \")\n",
    "        print()\n",
    "    print()\n",
    " \n",
    "def is_safe(row, col):\n",
    "    for i in range(row):\n",
    "        if a[i][col] == 1:\n",
    "            return False\n",
    " \n",
    "    for i, j in zip(range(row, -1, -1), range(col, -1, -1)):\n",
    "        if a[i][j] == 1:\n",
    "            return False\n",
    " \n",
    "    for i, j in zip(range(row, -1, -1), range(col, n)):\n",
    "        if a[i][j] == 1:\n",
    "            return False\n",
    " \n",
    "    return True\n",
    " \n",
    "def nqueen(row):\n",
    "    if row == n:\n",
    "        print_sol()\n",
    "    else:\n",
    "        for col in range(n):\n",
    "            if is_safe(row, col):\n",
    "                a[row][col] = 1\n",
    "                nqueen(row + 1)\n",
    "                a[row][col] = 0\n",
    " \n",
    "n = int(input(\"Enter the value of N: \"))\n",
    "a = [[0] * n for _ in range(n)]\n",
    "nqueen(0)"
   ]
  },
  {
   "cell_type": "code",
   "execution_count": null,
   "id": "07d3388f-13e7-4144-9269-e347242ef660",
   "metadata": {},
   "outputs": [],
   "source": []
  }
 ],
 "metadata": {
  "kernelspec": {
   "display_name": "Python [conda env:base] *",
   "language": "python",
   "name": "conda-base-py"
  },
  "language_info": {
   "codemirror_mode": {
    "name": "ipython",
    "version": 3
   },
   "file_extension": ".py",
   "mimetype": "text/x-python",
   "name": "python",
   "nbconvert_exporter": "python",
   "pygments_lexer": "ipython3",
   "version": "3.12.7"
  }
 },
 "nbformat": 4,
 "nbformat_minor": 5
}
