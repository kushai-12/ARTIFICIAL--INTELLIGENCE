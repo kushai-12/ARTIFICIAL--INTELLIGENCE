{
 "cells": [
  {
   "cell_type": "code",
   "execution_count": 3,
   "id": "e9bce1a9-08ad-4229-868e-a1c69904b606",
   "metadata": {},
   "outputs": [
    {
     "name": "stdout",
     "output_type": "stream",
     "text": [
      "Shortest Path: A->C->F\n"
     ]
    }
   ],
   "source": [
    "import heapq \n",
    "def uniform_cost_search(graph, start, goal):    \n",
    "    pq = []  \n",
    "    heapq.heappush(pq, (0, start))  \n",
    "    costs = {node: float('inf') for node in graph}  \n",
    "    costs[start] = 0 \n",
    "    parents = {}   \n",
    "    visited = set()  \n",
    "  \n",
    "    while pq:    \n",
    "        current_cost, current_node = heapq.heappop(pq)  \n",
    "        if current_node == goal:  \n",
    "            return construct_path(parents, goal)  \n",
    "        if current_node in visited:  \n",
    "            continue  \n",
    "        visited.add(current_node)  \n",
    "        for neighbor, cost in graph[current_node].items():  \n",
    "            new_cost = costs[current_node] + cost  \n",
    "            if new_cost < costs[neighbor]:  \n",
    "                costs[neighbor] = new_cost  \n",
    "                parents[neighbor] = current_node  \n",
    "                heapq.heappush(pq, (new_cost, neighbor))  \n",
    "    return \"No path found\"  \n",
    "\n",
    "def construct_path(parents, goal):  \n",
    "    path = []  \n",
    "    current_node = goal  \n",
    "    while current_node is not None:  \n",
    "        path.append(current_node)  \n",
    "        current_node = parents.get(current_node)  \n",
    "    return list(reversed(path))   \n",
    "graph = {  \n",
    "    'A': {'B': 1, 'C': 4},  \n",
    "    'B': {'D': 3, 'E': 7},  \n",
    "    'C': {'F': 2},  \n",
    "    'D': {'F': 5},  \n",
    "    'E': {'F': 2},  \n",
    "    'F': {}  \n",
    "}  \n",
    "start_node = 'A'  \n",
    "goal_node = 'F'  \n",
    "path = uniform_cost_search(graph, start_node, goal_node)  \n",
    "if path != \"No path found\":  \n",
    "    print(\"Shortest Path:\", \"->\".join(path))  \n",
    "else:  \n",
    "    print(\"No path found\")  "
   ]
  },
  {
   "cell_type": "code",
   "execution_count": null,
   "id": "275afc32-f2bb-438a-8c21-888e5072f0b2",
   "metadata": {},
   "outputs": [],
   "source": []
  }
 ],
 "metadata": {
  "kernelspec": {
   "display_name": "Python [conda env:base] *",
   "language": "python",
   "name": "conda-base-py"
  },
  "language_info": {
   "codemirror_mode": {
    "name": "ipython",
    "version": 3
   },
   "file_extension": ".py",
   "mimetype": "text/x-python",
   "name": "python",
   "nbconvert_exporter": "python",
   "pygments_lexer": "ipython3",
   "version": "3.12.7"
  }
 },
 "nbformat": 4,
 "nbformat_minor": 5
}
